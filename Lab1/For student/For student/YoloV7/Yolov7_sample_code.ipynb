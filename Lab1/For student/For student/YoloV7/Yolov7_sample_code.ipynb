{
 "cells": [
  {
   "cell_type": "code",
   "execution_count": 4,
   "metadata": {
    "colab": {
     "base_uri": "https://localhost:8080/"
    },
    "executionInfo": {
     "elapsed": 14,
     "status": "ok",
     "timestamp": 1678119857974,
     "user": {
      "displayName": "Hong Wei",
      "userId": "02741141335947243773"
     },
     "user_tz": -480
    },
    "id": "jrCX0d5CvJ-3",
    "outputId": "7c275025-7134-4369-c425-177bb10ca386",
    "tags": []
   },
   "outputs": [
    {
     "name": "stdout",
     "output_type": "stream",
     "text": [
      "Python 3.11.5\n"
     ]
    },
    {
     "name": "stderr",
     "output_type": "stream",
     "text": [
      "  error: subprocess-exited-with-error\n",
      "  \n",
      "  python setup.py egg_info did not run successfully.\n",
      "  exit code: 1\n",
      "  \n",
      "  [15 lines of output]\n",
      "  C:\\Users\\ASUS\\AppData\\Local\\Temp\\pip-install-5iw55e6f\\pandas_a8bc750dcbad40e2ba4cc75e5f4e53a7\\setup.py:12: DeprecationWarning: pkg_resources is deprecated as an API. See https://setuptools.pypa.io/en/latest/pkg_resources.html\n",
      "    import pkg_resources\n",
      "  C:\\Users\\ASUS\\anaconda3\\Lib\\site-packages\\setuptools\\__init__.py:84: _DeprecatedInstaller: setuptools.installer and fetch_build_eggs are deprecated.\n",
      "  !!\n",
      "  \n",
      "          ********************************************************************************\n",
      "          Requirements should be satisfied by a PEP 517 installer.\n",
      "          If you are using pip, you can try `pip install --use-pep517`.\n",
      "          ********************************************************************************\n",
      "  \n",
      "  !!\n",
      "    dist.fetch_build_eggs(dist.setup_requires)\n",
      "  error in pandas setup command: 'install_requires' must be a string or list of strings containing valid project/version requirement specifiers; Expected end or semicolon (after version specifier)\n",
      "      pytz >= 2011k\n",
      "           ~~~~~~~^\n",
      "  [end of output]\n",
      "  \n",
      "  note: This error originates from a subprocess, and is likely not a problem with pip.\n",
      "error: metadata-generation-failed\n",
      "\n",
      "Encountered error while generating package metadata.\n",
      "\n",
      "See above for output.\n",
      "\n",
      "note: This is an issue with the package mentioned above, not pip.\n",
      "hint: See above for details.\n"
     ]
    },
    {
     "name": "stdout",
     "output_type": "stream",
     "text": [
      "Collecting google-colab\n",
      "  Using cached google-colab-1.0.0.tar.gz (72 kB)\n",
      "  Preparing metadata (setup.py): started\n",
      "  Preparing metadata (setup.py): finished with status 'done'\n",
      "Collecting google-auth~=1.4.0 (from google-colab)\n",
      "  Obtaining dependency information for google-auth~=1.4.0 from https://files.pythonhosted.org/packages/56/80/369a47c28ce7d9be6a6973338133d073864d8efbb62747e414c34a3a5f4f/google_auth-1.4.2-py2.py3-none-any.whl.metadata\n",
      "  Using cached google_auth-1.4.2-py2.py3-none-any.whl.metadata (3.0 kB)\n",
      "Collecting ipykernel~=4.6.0 (from google-colab)\n",
      "  Obtaining dependency information for ipykernel~=4.6.0 from https://files.pythonhosted.org/packages/18/c3/76775a650cae2e3d9c033b26153583e61282692d9a3af12a3022d8f0cefa/ipykernel-4.6.1-py3-none-any.whl.metadata\n",
      "  Using cached ipykernel-4.6.1-py3-none-any.whl.metadata (981 bytes)\n",
      "Collecting ipython~=5.5.0 (from google-colab)\n",
      "  Obtaining dependency information for ipython~=5.5.0 from https://files.pythonhosted.org/packages/07/63/c987612bcf82c56eaacaf6bf01e31e53a244a0a3a0fb036ec5adc377e0fe/ipython-5.5.0-py3-none-any.whl.metadata\n",
      "  Using cached ipython-5.5.0-py3-none-any.whl.metadata (4.3 kB)\n",
      "Collecting notebook~=5.2.0 (from google-colab)\n",
      "  Obtaining dependency information for notebook~=5.2.0 from https://files.pythonhosted.org/packages/96/a2/d951ebb7855743f989287486ded73cd3f66915c3ecd9c5c5a0c7ca12377a/notebook-5.2.2-py2.py3-none-any.whl.metadata\n",
      "  Using cached notebook-5.2.2-py2.py3-none-any.whl.metadata (1.8 kB)\n",
      "Collecting six~=1.12.0 (from google-colab)\n",
      "  Obtaining dependency information for six~=1.12.0 from https://files.pythonhosted.org/packages/73/fb/00a976f728d0d1fecfe898238ce23f502a721c0ac0ecfedb80e0d88c64e9/six-1.12.0-py2.py3-none-any.whl.metadata\n",
      "  Using cached six-1.12.0-py2.py3-none-any.whl.metadata (1.9 kB)\n",
      "Collecting pandas~=0.24.0 (from google-colab)\n",
      "  Using cached pandas-0.24.2.tar.gz (11.8 MB)\n",
      "  Preparing metadata (setup.py): started\n",
      "  Preparing metadata (setup.py): finished with status 'error'\n"
     ]
    }
   ],
   "source": [
    "!python -V\n",
    "!pip install google-colab"
   ]
  },
  {
   "cell_type": "code",
   "execution_count": 3,
   "metadata": {
    "id": "MOoV6EnZoUni",
    "tags": []
   },
   "outputs": [
    {
     "ename": "ModuleNotFoundError",
     "evalue": "No module named 'google.colab'",
     "output_type": "error",
     "traceback": [
      "\u001b[1;31m---------------------------------------------------------------------------\u001b[0m",
      "\u001b[1;31mModuleNotFoundError\u001b[0m                       Traceback (most recent call last)",
      "Cell \u001b[1;32mIn[3], line 12\u001b[0m\n\u001b[0;32m     10\u001b[0m get_ipython()\u001b[38;5;241m.\u001b[39mrun_line_magic(\u001b[38;5;124m'\u001b[39m\u001b[38;5;124mmatplotlib\u001b[39m\u001b[38;5;124m'\u001b[39m, \u001b[38;5;124m'\u001b[39m\u001b[38;5;124minline\u001b[39m\u001b[38;5;124m'\u001b[39m)\n\u001b[0;32m     11\u001b[0m \u001b[38;5;66;03m# connect to your google drive \u001b[39;00m\n\u001b[1;32m---> 12\u001b[0m \u001b[38;5;28;01mfrom\u001b[39;00m \u001b[38;5;21;01mgoogle\u001b[39;00m\u001b[38;5;21;01m.\u001b[39;00m\u001b[38;5;21;01mcolab\u001b[39;00m \u001b[38;5;28;01mimport\u001b[39;00m drive\n\u001b[0;32m     13\u001b[0m \u001b[38;5;28;01mfrom\u001b[39;00m \u001b[38;5;21;01mgoogle\u001b[39;00m\u001b[38;5;21;01m.\u001b[39;00m\u001b[38;5;21;01mcolab\u001b[39;00m\u001b[38;5;21;01m.\u001b[39;00m\u001b[38;5;21;01mpatches\u001b[39;00m \u001b[38;5;28;01mimport\u001b[39;00m cv2_imshow\n\u001b[0;32m     14\u001b[0m drive\u001b[38;5;241m.\u001b[39mmount(\u001b[38;5;124m'\u001b[39m\u001b[38;5;124m/content/gdrive\u001b[39m\u001b[38;5;124m'\u001b[39m) \n",
      "\u001b[1;31mModuleNotFoundError\u001b[0m: No module named 'google.colab'"
     ]
    }
   ],
   "source": [
    "import os\n",
    "import torch\n",
    "import cv2\n",
    "import numpy as np\n",
    "import pandas as pd\n",
    "from os import walk\n",
    "from os.path import join\n",
    "from datetime import datetime\n",
    "import matplotlib.pyplot as plt\n",
    "%matplotlib inline\n",
    "# connect to your google drive \n",
    "from google.colab import drive\n",
    "from google.colab.patches import cv2_imshow\n",
    "drive.mount('/content/gdrive') "
   ]
  },
  {
   "cell_type": "code",
   "execution_count": null,
   "metadata": {
    "id": "CzpJDgklo_wY",
    "tags": []
   },
   "outputs": [],
   "source": [
    "# clone git repositories in workspace\n",
    "!git clone https://github.com/WongKinYiu/yolov7\n",
    "\n",
    "# change directory to yolov7 file\n",
    "%cd /content/yolov7"
   ]
  },
  {
   "cell_type": "code",
   "execution_count": null,
   "metadata": {
    "id": "F6Ali8Asx09c",
    "tags": []
   },
   "outputs": [],
   "source": [
    "'''\n",
    "unzip the file HW1_material.zip which placed in your google drive ex: /content/gdrive/MyDrive/hw1/HW1_material.zip to /content/YoloV7\n",
    "'''\n",
    "\n",
    "!unzip {\"C:\\Users\\ASUS\\NYCU CS\\Course\\112 Spring\\Intro. to AI\\Lab1\\For student\\For student\\YoloV7\\HW1_material.zip\"}"
   ]
  },
  {
   "cell_type": "markdown",
   "metadata": {
    "id": "_GytTjF9_iGz"
   },
   "source": [
    "## Task B\n",
    "### Part1: Load a pretrained model and directly apply it to the `HW1_material/detect/parking_area.png` to detect the object."
   ]
  },
  {
   "cell_type": "code",
   "execution_count": 18,
   "metadata": {
    "id": "49mEVjd6yeDn",
    "tags": []
   },
   "outputs": [
    {
     "name": "stderr",
     "output_type": "stream",
     "text": [
      "'wget' 不是內部或外部命令、可執行的程式或批次檔。\n"
     ]
    }
   ],
   "source": [
    "# download COCO starting checkpoint \n",
    "!wget https://github.com/WongKinYiu/yolov7/releases/download/v0.1/yolov7.pt"
   ]
  },
  {
   "cell_type": "code",
   "execution_count": null,
   "metadata": {
    "id": "gANehGVKz29l",
    "tags": []
   },
   "outputs": [],
   "source": [
    "# run evaluation\n",
    "!python detect.py --weights yolov7.pt --conf 0.1 --name parking_area --source HW1_material/detect/parking_area.png  --exist-ok"
   ]
  },
  {
   "cell_type": "code",
   "execution_count": null,
   "metadata": {
    "id": "YAKVsKwUB-Ks",
    "tags": []
   },
   "outputs": [],
   "source": [
    "# Show image in /content/yolov7/runs/detect/parking_area/parking_area.png\n",
    "import matplotlib.pyplot as plt\n",
    "import matplotlib.image as mpimg\n",
    "img = mpimg.imread('/content/yolov7/runs/detect/parking_area/parking_area.png')\n",
    "imgplot = plt.imshow(img)\n",
    "plt.show()"
   ]
  },
  {
   "cell_type": "markdown",
   "metadata": {
    "id": "uGjlAwIF_1DF"
   },
   "source": [
    "### Part2: Learn to fine tuning yolov7 model "
   ]
  },
  {
   "cell_type": "code",
   "execution_count": null,
   "metadata": {
    "id": "45LNsH4H9vXp"
   },
   "outputs": [],
   "source": [
    "# download COCO starting checkpoint \n",
    "!wget https://github.com/WongKinYiu/yolov7/releases/download/v0.1/yolov7_training.pt"
   ]
  },
  {
   "cell_type": "code",
   "execution_count": null,
   "metadata": {
    "id": "7GwTW72bANAy"
   },
   "outputs": [],
   "source": [
    "# Finetune the Yolov7 model\n",
    "'''\n",
    "You can add other parameters by using --params_name params_values ex: --device 0 --epoch 1 --batch-size 1\n",
    "just do not change parameters that we already give you.\n",
    "hint: only one instruction \n",
    "'''\n",
    "'''\n",
    "Free to load another YoloV7 model that you can find here: https://github.com/WongKinYiu/yolov7\n",
    "hint: only one instruction \n",
    "\n",
    "The best model will save in /content/yolov7/runs/train/yolov7-tiny/weights.\n",
    "If you run this cell again then the model will save if /content/yolov7/runs/train/yolov7-tiny2/weight and so on.\n",
    "'''\n",
    "!python train.py --img-size 360 160 --data HW1_material/hw1.yaml --weights 'yolov7-tiny-custom' --exist-ok --cfg cfg/training/yolov7-tiny.yaml --name yolov7-tiny --hyp data/hyp.scratch.custom.yaml"
   ]
  },
  {
   "cell_type": "code",
   "execution_count": null,
   "metadata": {
    "id": "6U06f_8RE__7"
   },
   "outputs": [],
   "source": [
    "'''Save model in your google drive place'''\n",
    "savePath = '{your google drive place/model.pt}'\n",
    "!cp  '/content/yolov7/runs/train/yolov7-tiny/weights/best.pt' $savePath"
   ]
  },
  {
   "cell_type": "code",
   "execution_count": null,
   "metadata": {
    "id": "-ZunqHrIFjT-"
   },
   "outputs": [],
   "source": [
    "# If you don't have detect/train just ignore this remind (rm: cannot remove '/content/yolov7/runs/detect/train': No such file or directory)\n",
    "!rm -r '/content/yolov7/runs/detect/train' \n",
    "\n",
    "# Apply on training data\n",
    "''' \n",
    "Run evaluation like cell above\n",
    "you must use parameter: --source /content/yolov7/HW1_material/train/car --name train --save-txt --exist-ok --weights $savePath \n",
    "hint: one instruction starting from !python \n",
    "'''\n",
    "!python\n",
    "''' \n",
    "Run evaluation like cell above\n",
    "you must use parameter: --source /content/yolov7/HW1_material/train/non-car --name train --save-txt --exist-ok --weights $savePath\n",
    "hint: one instruction starting from !python \n",
    "'''\n",
    "\n",
    "!python"
   ]
  },
  {
   "cell_type": "code",
   "execution_count": null,
   "metadata": {
    "id": "tID1fZh_NepC"
   },
   "outputs": [],
   "source": [
    "def Calculate(AnswerFile,PredFile):\n",
    "\n",
    "  def loadAns(dataPath):\n",
    "      pos = os.path.join(dataPath, 'car')\n",
    "      neg = os.path.join(dataPath, 'non-car')\n",
    "      Answer = []\n",
    "      for f in os.listdir(pos):\n",
    "          if not os.path.isdir(f):\n",
    "              Answer.append((os.path.join(pos, f), 1))\n",
    "      for f in os.listdir(neg):\n",
    "          if not os.path.isdir(f):\n",
    "              Answer.append((os.path.join(neg, f), 0))\n",
    "      return Answer\n",
    "\n",
    "  Answer = loadAns(AnswerFile) \n",
    "\n",
    "  all_negatives, all_positives = 0, 0\n",
    "  true_negatives, false_negatives = 0, 0\n",
    "  true_positives, false_positives = 0, 0\n",
    "\n",
    "  for x, y in Answer:\n",
    "\n",
    "      exec_path = \"'\" + x + \"'\"\n",
    "      img_filename = x.split('/')[-1]\n",
    "      img_filename = img_filename.split('.')[0]\n",
    "      txtpath = PredFile + img_filename + '.txt'\n",
    "\n",
    "      if y == 1:\n",
    "          all_positives += 1\n",
    "      else:\n",
    "          all_negatives += 1\n",
    "\n",
    "      try:\n",
    "          with open(txtpath, 'r') as f:\n",
    "              n = len(f.readlines())\n",
    "          if n > 0:\n",
    "              prediction = 1\n",
    "          else:\n",
    "              prediction = 0\n",
    "      except:\n",
    "          prediction = 0\n",
    "\n",
    "      if prediction == 1:\n",
    "          if y == 1:\n",
    "              true_positives += 1\n",
    "          else:\n",
    "              false_positives += 1\n",
    "      else:\n",
    "          if y == 1:\n",
    "              false_negatives += 1\n",
    "          else:\n",
    "              true_negatives += 1\n",
    "\n",
    "  correct = true_positives + true_negatives\n",
    "  print(\"False Positive Rate: %d/%d (%f)\" % (false_positives, all_negatives, false_positives/all_negatives))\n",
    "  print(\"False Negative Rate: %d/%d (%f)\" % (false_negatives, all_positives, false_negatives/all_positives))\n",
    "  print(\"Training Accuracy: %d/%d (%f)\" % (correct, len(Answer), correct/len(Answer)))"
   ]
  },
  {
   "cell_type": "code",
   "execution_count": null,
   "metadata": {
    "id": "GxPM2PIkBwh9"
   },
   "outputs": [],
   "source": [
    "# Calculate yolov7 performance \n",
    "# You have to adjust the parameters to get more than 90% accuracy\n",
    "# Warning: make sure that txtpath is currect because you may get many train{n} file when training more than one time.\n",
    "\n",
    "Calculate('/content/yolov7/HW1_material/train/','/content/yolov7/runs/detect/train/labels/')"
   ]
  },
  {
   "cell_type": "code",
   "execution_count": null,
   "metadata": {
    "id": "JldqJ0BlIJdz"
   },
   "outputs": [],
   "source": [
    "# If you don't have detect/test just ignore this remind (rm: cannot remove '/content/yolov7/runs/detect/test': No such file or directory)\n",
    "!rm -r '/content/yolov7/runs/detect/test' \n",
    "\n",
    "# Apply on testing data\n",
    "''' \n",
    "Run evaluation like cell above\n",
    "you must use parameter: --source /content/yolov7/HW1_material/test/car --name test --save-txt --exist-ok --weights $savePath\n",
    "hint: one instruction starting from !python\n",
    "'''\n",
    "!python\n",
    "\n",
    "''' \n",
    "Run evaluation like cell above\n",
    "you must use parameter: --source /content/yolov7/HW1_material/test/non-car --name test --save-txt --exist-ok --weights $savePath\n",
    "hint: one instruction starting from !python\n",
    "'''\n",
    "!python"
   ]
  },
  {
   "cell_type": "code",
   "execution_count": null,
   "metadata": {
    "id": "fEQ_Yz6PPlhd"
   },
   "outputs": [],
   "source": [
    "Calculate('/content/yolov7/HW1_material/test/','/content/yolov7/runs/detect/test/labels/')"
   ]
  }
 ],
 "metadata": {
  "accelerator": "GPU",
  "colab": {
   "provenance": []
  },
  "gpuClass": "standard",
  "kernelspec": {
   "display_name": "Python 3 (ipykernel)",
   "language": "python",
   "name": "python3"
  },
  "language_info": {
   "codemirror_mode": {
    "name": "ipython",
    "version": 3
   },
   "file_extension": ".py",
   "mimetype": "text/x-python",
   "name": "python",
   "nbconvert_exporter": "python",
   "pygments_lexer": "ipython3",
   "version": "3.11.5"
  }
 },
 "nbformat": 4,
 "nbformat_minor": 4
}
