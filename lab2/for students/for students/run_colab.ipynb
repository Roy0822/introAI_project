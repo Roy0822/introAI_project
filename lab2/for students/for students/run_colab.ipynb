{
 "cells": [
  {
   "cell_type": "markdown",
   "metadata": {
    "id": "Rp4sSROhupig"
   },
   "source": [
    "This is an example of how to run on Colab. You can edit this file in anyway you want."
   ]
  },
  {
   "cell_type": "code",
   "execution_count": null,
   "metadata": {
    "id": "eVIlLeHyupij"
   },
   "outputs": [],
   "source": [
    "from google.colab import drive\n",
    "from google.colab.patches import cv2_imshow\n",
    "drive.mount('/content/gdrive') "
   ]
  },
  {
   "cell_type": "code",
   "execution_count": null,
   "metadata": {
    "id": "ar95QtOLupik"
   },
   "outputs": [],
   "source": [
    "!unzip /content/gdrive/MyDrive/HW2.zip  \n",
    "%cd /content/HW2"
   ]
  },
  {
   "cell_type": "code",
   "execution_count": 1,
   "metadata": {
    "id": "vbPcdIEBupik"
   },
   "outputs": [
    {
     "name": "stdout",
     "output_type": "stream",
     "text": [
      "Requirement already satisfied: transformers in c:\\users\\asus\\anaconda3\\envs\\env_pytorch\\lib\\site-packages (3.4.0)\n",
      "Requirement already satisfied: sacremoses in c:\\users\\asus\\anaconda3\\envs\\env_pytorch\\lib\\site-packages (from transformers) (0.0.53)\n",
      "Requirement already satisfied: numpy in c:\\users\\asus\\appdata\\roaming\\python\\python36\\site-packages (from transformers) (1.19.5)\n",
      "Requirement already satisfied: tqdm>=4.27 in c:\\users\\asus\\anaconda3\\envs\\env_pytorch\\lib\\site-packages (from transformers) (4.64.1)\n",
      "Requirement already satisfied: packaging in c:\\users\\asus\\anaconda3\\envs\\env_pytorch\\lib\\site-packages (from transformers) (21.3)\n",
      "Requirement already satisfied: protobuf in c:\\users\\asus\\anaconda3\\envs\\env_pytorch\\lib\\site-packages (from transformers) (3.19.6)\n",
      "Requirement already satisfied: requests in c:\\users\\asus\\anaconda3\\envs\\env_pytorch\\lib\\site-packages (from transformers) (2.27.1)\n",
      "Requirement already satisfied: dataclasses in c:\\users\\asus\\appdata\\roaming\\python\\python36\\site-packages (from transformers) (0.8)\n",
      "Requirement already satisfied: tokenizers==0.9.2 in c:\\users\\asus\\anaconda3\\envs\\env_pytorch\\lib\\site-packages (from transformers) (0.9.2)\n",
      "Requirement already satisfied: sentencepiece!=0.1.92 in c:\\users\\asus\\anaconda3\\envs\\env_pytorch\\lib\\site-packages (from transformers) (0.2.0)\n",
      "Requirement already satisfied: regex!=2019.12.17 in c:\\users\\asus\\anaconda3\\envs\\env_pytorch\\lib\\site-packages (from transformers) (2023.8.8)\n",
      "Requirement already satisfied: filelock in c:\\users\\asus\\anaconda3\\envs\\env_pytorch\\lib\\site-packages (from transformers) (3.4.1)\n",
      "Requirement already satisfied: importlib-resources in c:\\users\\asus\\anaconda3\\envs\\env_pytorch\\lib\\site-packages (from tqdm>=4.27->transformers) (5.4.0)\n",
      "Requirement already satisfied: colorama in c:\\users\\asus\\anaconda3\\envs\\env_pytorch\\lib\\site-packages (from tqdm>=4.27->transformers) (0.4.5)\n",
      "Requirement already satisfied: pyparsing!=3.0.5,>=2.0.2 in c:\\users\\asus\\anaconda3\\envs\\env_pytorch\\lib\\site-packages (from packaging->transformers) (3.1.2)\n",
      "Requirement already satisfied: urllib3<1.27,>=1.21.1 in c:\\users\\asus\\anaconda3\\envs\\env_pytorch\\lib\\site-packages (from requests->transformers) (1.26.18)\n",
      "Requirement already satisfied: charset-normalizer~=2.0.0 in c:\\users\\asus\\anaconda3\\envs\\env_pytorch\\lib\\site-packages (from requests->transformers) (2.0.12)\n",
      "Requirement already satisfied: idna<4,>=2.5 in c:\\users\\asus\\anaconda3\\envs\\env_pytorch\\lib\\site-packages (from requests->transformers) (3.6)\n",
      "Requirement already satisfied: certifi>=2017.4.17 in c:\\users\\asus\\anaconda3\\envs\\env_pytorch\\lib\\site-packages (from requests->transformers) (2020.6.20)\n",
      "Requirement already satisfied: click in c:\\users\\asus\\anaconda3\\envs\\env_pytorch\\lib\\site-packages (from sacremoses->transformers) (8.0.4)\n",
      "Requirement already satisfied: joblib in c:\\users\\asus\\anaconda3\\envs\\env_pytorch\\lib\\site-packages (from sacremoses->transformers) (1.1.1)\n",
      "Requirement already satisfied: six in c:\\users\\asus\\anaconda3\\envs\\env_pytorch\\lib\\site-packages (from sacremoses->transformers) (1.16.0)\n",
      "Requirement already satisfied: importlib-metadata in c:\\users\\asus\\anaconda3\\envs\\env_pytorch\\lib\\site-packages (from click->sacremoses->transformers) (4.8.3)\n",
      "Requirement already satisfied: zipp>=3.1.0 in c:\\users\\asus\\anaconda3\\envs\\env_pytorch\\lib\\site-packages (from importlib-resources->tqdm>=4.27->transformers) (3.6.0)\n",
      "Requirement already satisfied: typing-extensions>=3.6.4 in c:\\users\\asus\\appdata\\roaming\\python\\python36\\site-packages (from importlib-metadata->click->sacremoses->transformers) (4.1.1)\n",
      "Note: you may need to restart the kernel to use updated packages.\n"
     ]
    }
   ],
   "source": [
    "%pip install transformers"
   ]
  },
  {
   "cell_type": "code",
   "execution_count": 3,
   "metadata": {
    "id": "EHKWbeD9upik"
   },
   "outputs": [
    {
     "name": "stdout",
     "output_type": "stream",
     "text": [
      "Using cuda device"
     ]
    },
    {
     "name": "stderr",
     "output_type": "stream",
     "text": [
      "[nltk_data] Downloading package stopwords to"
     ]
    },
    {
     "name": "stdout",
     "output_type": "stream",
     "text": [
      "\n"
     ]
    },
    {
     "name": "stderr",
     "output_type": "stream",
     "text": [
      "\n",
      "[nltk_data]     C:\\Users\\ASUS\\AppData\\Roaming\\nltk_data...\n",
      "[nltk_data]   Package stopwords is already up-to-date!\n",
      "\n",
      "  0%|          | 0/5000 [00:00<?, ?it/s]\n",
      "  0%|          | 0/5000 [00:12<?, ?it/s]\n",
      "Traceback (most recent call last):\n",
      "  File \"main.py\", line 218, in <module>\n",
      "    second_part(model_type, df_train, df_test, N)\n",
      "  File \"main.py\", line 126, in second_part\n",
      "    config=model.config\n",
      "  File \"main.py\", line 156, in train\n",
      "    output = model.forward(features) # get the output\n",
      "  File \"c:\\Users\\ASUS\\NYCU CS\\Course\\112 Spring\\Intro. to AI\\lab2\\for students\\for students\\bert.py\", line 64, in forward\n",
      "    outputs = self.model(**text)\n",
      "  File \"c:\\Users\\ASUS\\anaconda3\\envs\\env_pytorch\\lib\\site-packages\\torch\\nn\\modules\\module.py\", line 1102, in _call_impl\n",
      "    return forward_call(*input, **kwargs)\n",
      "  File \"c:\\Users\\ASUS\\NYCU CS\\Course\\112 Spring\\Intro. to AI\\lab2\\for students\\for students\\bert.py\", line 49, in forward\n",
      "    outputs = self.pretrained_model(**pretrained_text).last_hidden_state\n",
      "AttributeError: 'tuple' object has no attribute 'last_hidden_state'\n"
     ]
    }
   ],
   "source": [
    "!python main.py --model_type BERT --preprocess 0 --part 2\n"
   ]
  },
  {
   "cell_type": "code",
   "execution_count": 4,
   "metadata": {
    "id": "bgJXcQL_upik"
   },
   "outputs": [
    {
     "name": "stderr",
     "output_type": "stream",
     "text": [
      "[nltk_data] Downloading package stopwords to\n",
      "[nltk_data]     C:\\Users\\ASUS\\AppData\\Roaming\\nltk_data...\n",
      "[nltk_data]   Package stopwords is already up-to-date!\n",
      "Traceback (most recent call last):\n",
      "  File \"main.py\", line 219, in <module>\n",
      "    second_part(model_type, df_train, df_test, N)\n",
      "  File \"main.py\", line 91, in second_part\n",
      "    train_data = RNNDataset(df_train)\n",
      "  File \"c:\\Users\\ASUS\\NYCU CS\\Course\\112 Spring\\Intro. to AI\\lab2\\for students\\for students\\rnn.py\", line 17, in __init__\n",
      "    self.reviews[idx] = ' '.join(tokenzier(self.reviews[idx]))\n",
      "  File \"c:\\Users\\ASUS\\anaconda3\\envs\\env_pytorch\\lib\\site-packages\\torchtext\\data\\utils.py\", line 68, in _basic_english_normalize\n",
      "    line = line.lower()\n",
      "AttributeError: 'list' object has no attribute 'lower'\n"
     ]
    }
   ],
   "source": [
    "!python main.py --model_type RNN --preprocess 1 --part 2"
   ]
  }
 ],
 "metadata": {
  "colab": {
   "provenance": []
  },
  "kernelspec": {
   "display_name": "Python 3 (ipykernel)",
   "language": "python",
   "name": "python3"
  },
  "language_info": {
   "codemirror_mode": {
    "name": "ipython",
    "version": 3
   },
   "file_extension": ".py",
   "mimetype": "text/x-python",
   "name": "python",
   "nbconvert_exporter": "python",
   "pygments_lexer": "ipython3",
   "version": "3.6.13"
  }
 },
 "nbformat": 4,
 "nbformat_minor": 4
}
